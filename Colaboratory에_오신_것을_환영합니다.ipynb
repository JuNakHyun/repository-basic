{
  "cells": [
    {
      "cell_type": "markdown",
      "metadata": {
        "id": "view-in-github",
        "colab_type": "text"
      },
      "source": [
        "<a href=\"https://colab.research.google.com/github/JuNakHyun/repository-basic/blob/main/Colaboratory%EC%97%90_%EC%98%A4%EC%8B%A0_%EA%B2%83%EC%9D%84_%ED%99%98%EC%98%81%ED%95%A9%EB%8B%88%EB%8B%A4.ipynb\" target=\"_parent\"><img src=\"https://colab.research.google.com/assets/colab-badge.svg\" alt=\"Open In Colab\"/></a>"
      ]
    },
    {
      "cell_type": "code",
      "source": [
        "from google.colab import drive\n",
        "drive.mount('/content/drive')"
      ],
      "metadata": {
        "id": "gOCZcQFTMo9l",
        "outputId": "cdf12c49-30a2-412d-a69e-1e4c7d0c0822",
        "colab": {
          "base_uri": "https://localhost:8080/"
        }
      },
      "execution_count": 1,
      "outputs": [
        {
          "output_type": "stream",
          "name": "stdout",
          "text": [
            "Mounted at /content/drive\n"
          ]
        }
      ]
    },
    {
      "cell_type": "markdown",
      "source": [
        "#**제어공학 과제1**\n",
        "###2020732010 주낙현\n",
        "***\n",
        ">**2.7**  \n",
        "\n",
        "<img src=\"https://drive.google.com/uc?id=10IjC_eyXiQ8kcuVXskbtvrhLAUDGIqOL\" width=\"500px\" height=\"200px\" ></img><br/>\n",
        "\n",
        "$$\n",
        "\\frac{V_2(s)}{V_1(s)}=-\\frac{Z_2(s)}{Z_1(s)}  \n",
        "$$\n",
        "\n",
        "$$\n",
        "Z_1(s)=\\frac{R_1*\\frac{1}{Cs}}{R_1+\\frac{1}{Cs}}=\\frac{R_1}{R_1Cs+1}\n",
        "$$\n",
        "\n",
        "$$\n",
        "Z_2(s)=R_2\n",
        "$$\n",
        "\n",
        "$$\n",
        "\\frac{V_2(s)}{V_1(s)}=-\\frac{R_2(R_1Cs+1)}{R_1}\n",
        "$$\n",
        "***\n",
        ">**2.12**\n",
        "\n",
        "$$\n",
        "\\frac{Y(s)}{R(s)}=\\frac{k}{s+50}\\\\  \n",
        "Y(s)=(\\frac{k}{s+50})R(s)=\\frac{k}{s(s+50))}=k(\\frac{A}{s}+\\frac{B}{s+50})\\\\\n",
        "As+50A+Bs=1\\\\\n",
        "A+B=0,A=\\frac{1}{50},B=-\\frac{1}{50}\\\\\n",
        "Y(s)=k(\\frac{1}{50s}-\\frac{1}{50(s+50)})\\\\\n",
        "y(t)=\\frac{k}{50}(1-e^{-50t})\\\\\n",
        "e_{ss}=\\lim_{t\\to\\infty}{y(t)}=\\frac{k}{50}=1\\\\\n",
        "k=50\n",
        "$$\n",
        "***\n",
        ">**2.15**\n",
        "\n",
        "<img src=\"https://drive.google.com/uc?id=10MhwranIodsJNx5uYad_esVNdtoOWK7l\" width=\"500px\" height=\"200px\" ></img><br/>\n",
        "\n",
        "$$\n",
        "m\\frac{d^2x(t)}{dt^2}+kx(t)=0\\xrightarrow{\\mathcal{L}}m(s^2X(s)-sX(0)-X'(0))+kX(s)=0\\\\\n",
        "(\\mathcal{L}{\\frac{d^2x(t)}{dt^2}}=s^2F(s)+sf(0)-f^{-1}(0))\\\\\n",
        "ms^2X(s)+kX(s)=msx_0\\\\\n",
        "X(s)=\\frac{sx_0}{s^2+\\frac{k}{m}}\\xrightarrow{\\mathcal{L}^{-1}}x(t)=x_0cos(\\sqrt\\frac{k}{m}t)\n",
        "$$\n",
        "***\n",
        ">**2.26**\n",
        "\n",
        "<img src=\"https://drive.google.com/uc?id=10SFr9HAMKgcwP16PGWYDq5ihrywU_2lL\" width=\"800px\" height=\"200px\" ></img><br/>\n",
        "\n",
        "|                       |M&ndsp,&ndsp        |m&ndsp,&ndsp        |\n",
        "|:---:                  |---:                |:---:               |\n",
        "|Inertia force(관성력)  |$M\\frac{d^2x}{dt^2}$|$m\\frac{d^2y}{dt^2}$|\n",
        "|Restoring force(복원력)| $k(x-y)$           | $k(y-x)$           |\n",
        "|Damping force(제동력)  |$b\\frac{d(x-y)}{dt}$|$b\\frac{d(y-x)}{dt}$|\n",
        "|Exciting force(자극)   |$F(t)$              |0                   |\n",
        "\n",
        "$$\n",
        "M: M\\frac{d^2x}{dt^2}+k(x-y)+b\\frac{d(x-y)}{dt}=F(t)\\\\\n",
        "m: m\\frac{d^2y}{dt^2}+k(y-x)+b\\frac{d(y-x)}{dt}=0\\\\\n",
        "M\\xrightarrow{\\mathcal{L}}Ms^2X(s)+bs(X(s)-Y(s))+k(X(s)-Y(s))=F(s)\\\\\n",
        "m\\xrightarrow{\\mathcal{L}}ms^2Y(s)+bs(Y(s)-X(s))+k(Y(s)-X(s))=0\\\\\n",
        "(Ms^2+bs+k)X(s)-(bs+k)Y(s)=F(s)\\\\\n",
        "(ms^2+bs+k)Y(s)-(bs+k)X(s)=0\\\\\n",
        "X(s)=\\frac{ms^2+bs+k}{bs+k}Y(s)\\\\\n",
        "((Ms^2+bs+k)(ms^2+bs+k)-(bs+k)^2)Y(s)=(bs+k)F(s)\\\\\n",
        "\\frac{Y(s)}{F(s)}=\\frac{bs+k}{(Ms^2+bs+k)(ms^2+bs+k)-(bs+k)^2}\n",
        "$$\n",
        "***\n",
        ">**2.37**\n",
        "\n",
        "$$\n",
        "m_1\\frac{d^2x}{dt^2}=-(k_1+k_2)x+k_2y\\\\\n",
        "m_1=1,k_1=1,k_2=1\\\\\n",
        "\\frac{d^2x}{dt^2}=-2x+y\\\\\n",
        "m_1\\frac{d^2y}{dt^2}=k_2(x-y)+u\\\\\n",
        "m_1=1,k_1=1,k_2=1\\\\\n",
        "\\frac{d^2y}{dt^2}=x-y+u\\\\\n",
        "$$\n",
        "***"
      ],
      "metadata": {
        "id": "2MtdKaGnM357"
      }
    }
  ],
  "metadata": {
    "colab": {
      "name": "Colaboratory에 오신 것을 환영합니다",
      "provenance": [],
      "include_colab_link": true
    },
    "kernelspec": {
      "display_name": "Python 3",
      "name": "python3"
    }
  },
  "nbformat": 4,
  "nbformat_minor": 0
}